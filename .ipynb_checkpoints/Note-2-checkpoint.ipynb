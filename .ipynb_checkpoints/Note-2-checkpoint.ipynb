{
 "cells": [
  {
   "cell_type": "markdown",
   "metadata": {},
   "source": [
    "# Projeto 1 - Ciência dos Dados"
   ]
  },
  {
   "cell_type": "markdown",
   "metadata": {},
   "source": [
    "Nome: Diogo Nobre de Araujo Cintra"
   ]
  },
  {
   "cell_type": "markdown",
   "metadata": {},
   "source": [
    "## Introdução"
   ]
  },
  {
   "cell_type": "markdown",
   "metadata": {},
   "source": [
    "Foi escolhido o grupo dos BRICS para ser estudado neste projeto. \n",
    "Países membros: Brasil, Rússia, China e África do Sul.\n",
    "O primeiro encontro dos presidentes de cada país ocorreu em 16 de junho de 2009 na Rússia, neste encontro a África do sul ainda não tinha entrado neste grupo político. Foi apenas em 24 de dezembro de 2010 que a África do Sul se tornou membro oficial do então conhecido país emergentes ou BRICS.\n",
    "\n",
    "A criação dos BRICS foi pelo fato de seus países membros terem índices semelhantes como crescimento industrial, PIB per capta e infraestrutura. Essas características de índices semelhantes entre esses países definiram o que conhecemos como país emergente. Em teoria fazer parte dos BRICS gerou alguns benefícios, como a criação do Novo Banco de Desenvolvimento do BRICS, por intermédio do banco, busca-se mobilizar recursos para incrementar o aporte de investimentos em infraestrutura e desenvolvimento sustentável nos países do BRICS e criação do Arranjo Contingente de Reservas, esse arranjo visa a respaldar os países membros, especificamente em eventuais cenários de crise em seus balanços de pagamentos."
   ]
  },
  {
   "cell_type": "markdown",
   "metadata": {},
   "source": [
    "## Pergunta a ser respondida"
   ]
  },
  {
   "cell_type": "markdown",
   "metadata": {},
   "source": [
    "Como a formação dos BRICS influenciou o crescimento dos países membros ?"
   ]
  },
  {
   "cell_type": "markdown",
   "metadata": {},
   "source": [
    "## Explicação da hipótese e mecanismo"
   ]
  },
  {
   "cell_type": "markdown",
   "metadata": {},
   "source": [
    "### Hipótese\n",
    "A criação dos BRICS foi pela semelhança econômica e social entre seus países membros. Dessa forma com a união desses países os crescimentos econômicos seriam semelhantes durante e após a formação do grupo.\n",
    "\n",
    "### Mecanismo\n",
    "Caso ocorra o que foi proposto pela hipótese, o crescimento econômico dos países deve-se ao fato de acordos e benefícios gerados pelo o grupo como: a criação do Novo Banco de Desenvolvimento do BRICS, criação do Arranjo Contingente de Reservas e maior visibilidade para investimentos, uma vez que esses países estão emergindo na economia global, portanto são economicamente atraentes. Para verificar se isso ocorreu, será analisado como foram os crescimentos dos índices que caracterizam um país como emergente, antes e depois da formação do grupo.\n",
    "\n",
    "http://engemausp.submissao.com.br/17/anais/arquivos/66.pdf\n",
    "(Não sei colocar em ABNT)"
   ]
  },
  {
   "cell_type": "markdown",
   "metadata": {},
   "source": [
    "## Bases de dados usadas"
   ]
  },
  {
   "cell_type": "markdown",
   "metadata": {},
   "source": [
    "https://www.gapminder.org/data/"
   ]
  },
  {
   "cell_type": "code",
   "execution_count": 2,
   "metadata": {},
   "outputs": [],
   "source": [
    "#Importando as bibliotecas\n",
    "%matplotlib inline\n",
    "import pandas as pd\n",
    "import matplotlib.pyplot as plt\n",
    "import os\n",
    "from numpy import arange\n",
    "from numpy import percentile\n",
    "import numpy as np\n",
    "\n",
    "#Leitura da base de dados\n",
    "GDPCAPTA = pd.read_excel('gdpcapta.xlsx')\n",
    "IDH = pd.read_excel('idh.xlsx')\n",
    "INTERNET = pd.read_excel('usuariosinternet.xlsx')\n",
    "INDUSTRIA = pd.read_excel('industria.xlsx')\n",
    "INVESTIMENTO = pd.read_excel('investimento.xlsx')\n",
    "CRESCIMENTOGDP = pd.read_excel('crescimentoGDP.xlsx')\n",
    "GDP = pd.read_excel('gdp.xlsx')"
   ]
  },
  {
   "cell_type": "code",
   "execution_count": 3,
   "metadata": {},
   "outputs": [
    {
     "data": {
      "text/html": [
       "<div>\n",
       "<style scoped>\n",
       "    .dataframe tbody tr th:only-of-type {\n",
       "        vertical-align: middle;\n",
       "    }\n",
       "\n",
       "    .dataframe tbody tr th {\n",
       "        vertical-align: top;\n",
       "    }\n",
       "\n",
       "    .dataframe thead th {\n",
       "        text-align: right;\n",
       "    }\n",
       "</style>\n",
       "<table border=\"1\" class=\"dataframe\">\n",
       "  <thead>\n",
       "    <tr style=\"text-align: right;\">\n",
       "      <th>country</th>\n",
       "      <th>Brazil</th>\n",
       "      <th>Russia</th>\n",
       "      <th>India</th>\n",
       "      <th>China</th>\n",
       "      <th>South Africa</th>\n",
       "      <th>Ecuador</th>\n",
       "      <th>Chile</th>\n",
       "    </tr>\n",
       "  </thead>\n",
       "  <tbody>\n",
       "    <tr>\n",
       "      <th>2000</th>\n",
       "      <td>1.540000e+12</td>\n",
       "      <td>9.520000e+11</td>\n",
       "      <td>8.030000e+11</td>\n",
       "      <td>2.240000e+12</td>\n",
       "      <td>2.670000e+11</td>\n",
       "      <td>4.650000e+10</td>\n",
       "      <td>1.450000e+11</td>\n",
       "    </tr>\n",
       "    <tr>\n",
       "      <th>2001</th>\n",
       "      <td>1.560000e+12</td>\n",
       "      <td>1.000000e+12</td>\n",
       "      <td>8.410000e+11</td>\n",
       "      <td>2.420000e+12</td>\n",
       "      <td>2.740000e+11</td>\n",
       "      <td>4.830000e+10</td>\n",
       "      <td>1.490000e+11</td>\n",
       "    </tr>\n",
       "    <tr>\n",
       "      <th>2002</th>\n",
       "      <td>1.610000e+12</td>\n",
       "      <td>1.050000e+12</td>\n",
       "      <td>8.730000e+11</td>\n",
       "      <td>2.640000e+12</td>\n",
       "      <td>2.840000e+11</td>\n",
       "      <td>5.030000e+10</td>\n",
       "      <td>1.540000e+11</td>\n",
       "    </tr>\n",
       "    <tr>\n",
       "      <th>2003</th>\n",
       "      <td>1.630000e+12</td>\n",
       "      <td>1.120000e+12</td>\n",
       "      <td>9.420000e+11</td>\n",
       "      <td>2.910000e+12</td>\n",
       "      <td>2.930000e+11</td>\n",
       "      <td>5.170000e+10</td>\n",
       "      <td>1.600000e+11</td>\n",
       "    </tr>\n",
       "    <tr>\n",
       "      <th>2004</th>\n",
       "      <td>1.720000e+12</td>\n",
       "      <td>1.200000e+12</td>\n",
       "      <td>1.020000e+12</td>\n",
       "      <td>3.200000e+12</td>\n",
       "      <td>3.060000e+11</td>\n",
       "      <td>5.590000e+10</td>\n",
       "      <td>1.720000e+11</td>\n",
       "    </tr>\n",
       "    <tr>\n",
       "      <th>2005</th>\n",
       "      <td>1.770000e+12</td>\n",
       "      <td>1.280000e+12</td>\n",
       "      <td>1.110000e+12</td>\n",
       "      <td>3.570000e+12</td>\n",
       "      <td>3.220000e+11</td>\n",
       "      <td>5.890000e+10</td>\n",
       "      <td>1.820000e+11</td>\n",
       "    </tr>\n",
       "    <tr>\n",
       "      <th>2006</th>\n",
       "      <td>1.850000e+12</td>\n",
       "      <td>1.390000e+12</td>\n",
       "      <td>1.210000e+12</td>\n",
       "      <td>4.020000e+12</td>\n",
       "      <td>3.400000e+11</td>\n",
       "      <td>6.150000e+10</td>\n",
       "      <td>1.930000e+11</td>\n",
       "    </tr>\n",
       "    <tr>\n",
       "      <th>2007</th>\n",
       "      <td>1.960000e+12</td>\n",
       "      <td>1.500000e+12</td>\n",
       "      <td>1.330000e+12</td>\n",
       "      <td>4.600000e+12</td>\n",
       "      <td>3.580000e+11</td>\n",
       "      <td>6.280000e+10</td>\n",
       "      <td>2.030000e+11</td>\n",
       "    </tr>\n",
       "    <tr>\n",
       "      <th>2008</th>\n",
       "      <td>2.060000e+12</td>\n",
       "      <td>1.580000e+12</td>\n",
       "      <td>1.390000e+12</td>\n",
       "      <td>5.040000e+12</td>\n",
       "      <td>3.700000e+11</td>\n",
       "      <td>6.680000e+10</td>\n",
       "      <td>2.100000e+11</td>\n",
       "    </tr>\n",
       "    <tr>\n",
       "      <th>2009</th>\n",
       "      <td>2.050000e+12</td>\n",
       "      <td>1.460000e+12</td>\n",
       "      <td>1.500000e+12</td>\n",
       "      <td>5.510000e+12</td>\n",
       "      <td>3.640000e+11</td>\n",
       "      <td>6.720000e+10</td>\n",
       "      <td>2.060000e+11</td>\n",
       "    </tr>\n",
       "    <tr>\n",
       "      <th>2010</th>\n",
       "      <td>2.210000e+12</td>\n",
       "      <td>1.520000e+12</td>\n",
       "      <td>1.660000e+12</td>\n",
       "      <td>6.100000e+12</td>\n",
       "      <td>3.750000e+11</td>\n",
       "      <td>6.960000e+10</td>\n",
       "      <td>2.190000e+11</td>\n",
       "    </tr>\n",
       "    <tr>\n",
       "      <th>2011</th>\n",
       "      <td>2.300000e+12</td>\n",
       "      <td>1.610000e+12</td>\n",
       "      <td>1.770000e+12</td>\n",
       "      <td>6.680000e+12</td>\n",
       "      <td>3.880000e+11</td>\n",
       "      <td>7.500000e+10</td>\n",
       "      <td>2.320000e+11</td>\n",
       "    </tr>\n",
       "    <tr>\n",
       "      <th>2012</th>\n",
       "      <td>2.340000e+12</td>\n",
       "      <td>1.660000e+12</td>\n",
       "      <td>1.860000e+12</td>\n",
       "      <td>7.210000e+12</td>\n",
       "      <td>3.960000e+11</td>\n",
       "      <td>7.930000e+10</td>\n",
       "      <td>2.440000e+11</td>\n",
       "    </tr>\n",
       "    <tr>\n",
       "      <th>2013</th>\n",
       "      <td>2.410000e+12</td>\n",
       "      <td>1.690000e+12</td>\n",
       "      <td>1.980000e+12</td>\n",
       "      <td>7.770000e+12</td>\n",
       "      <td>4.060000e+11</td>\n",
       "      <td>8.320000e+10</td>\n",
       "      <td>2.540000e+11</td>\n",
       "    </tr>\n",
       "  </tbody>\n",
       "</table>\n",
       "</div>"
      ],
      "text/plain": [
       "country        Brazil        Russia         India         China  South Africa  \\\n",
       "2000     1.540000e+12  9.520000e+11  8.030000e+11  2.240000e+12  2.670000e+11   \n",
       "2001     1.560000e+12  1.000000e+12  8.410000e+11  2.420000e+12  2.740000e+11   \n",
       "2002     1.610000e+12  1.050000e+12  8.730000e+11  2.640000e+12  2.840000e+11   \n",
       "2003     1.630000e+12  1.120000e+12  9.420000e+11  2.910000e+12  2.930000e+11   \n",
       "2004     1.720000e+12  1.200000e+12  1.020000e+12  3.200000e+12  3.060000e+11   \n",
       "2005     1.770000e+12  1.280000e+12  1.110000e+12  3.570000e+12  3.220000e+11   \n",
       "2006     1.850000e+12  1.390000e+12  1.210000e+12  4.020000e+12  3.400000e+11   \n",
       "2007     1.960000e+12  1.500000e+12  1.330000e+12  4.600000e+12  3.580000e+11   \n",
       "2008     2.060000e+12  1.580000e+12  1.390000e+12  5.040000e+12  3.700000e+11   \n",
       "2009     2.050000e+12  1.460000e+12  1.500000e+12  5.510000e+12  3.640000e+11   \n",
       "2010     2.210000e+12  1.520000e+12  1.660000e+12  6.100000e+12  3.750000e+11   \n",
       "2011     2.300000e+12  1.610000e+12  1.770000e+12  6.680000e+12  3.880000e+11   \n",
       "2012     2.340000e+12  1.660000e+12  1.860000e+12  7.210000e+12  3.960000e+11   \n",
       "2013     2.410000e+12  1.690000e+12  1.980000e+12  7.770000e+12  4.060000e+11   \n",
       "\n",
       "country       Ecuador         Chile  \n",
       "2000     4.650000e+10  1.450000e+11  \n",
       "2001     4.830000e+10  1.490000e+11  \n",
       "2002     5.030000e+10  1.540000e+11  \n",
       "2003     5.170000e+10  1.600000e+11  \n",
       "2004     5.590000e+10  1.720000e+11  \n",
       "2005     5.890000e+10  1.820000e+11  \n",
       "2006     6.150000e+10  1.930000e+11  \n",
       "2007     6.280000e+10  2.030000e+11  \n",
       "2008     6.680000e+10  2.100000e+11  \n",
       "2009     6.720000e+10  2.060000e+11  \n",
       "2010     6.960000e+10  2.190000e+11  \n",
       "2011     7.500000e+10  2.320000e+11  \n",
       "2012     7.930000e+10  2.440000e+11  \n",
       "2013     8.320000e+10  2.540000e+11  "
      ]
     },
     "execution_count": 3,
     "metadata": {},
     "output_type": "execute_result"
    }
   ],
   "source": [
    "gdpcapta = GDPCAPTA.set_index('country')\n",
    "BRICSGDP1 = gdpcapta.loc[['Brazil','Russia','India','China','South Africa','Ecuador','Chile']]\n",
    "BRICSGDP2 = BRICSGDP1.transpose()\n",
    "BRICSGDP3 = BRICSGDP2.iloc[40:54]\n",
    "\n",
    "idh = IDH.set_index('country')\n",
    "BRICSIDH1 = idh.loc[['Brazil','Russia','India','China','South Africa','Ecuador','Chile']]\n",
    "BRICSIDH2 = BRICSIDH1.transpose()\n",
    "BRICSIDH3 = BRICSIDH2.iloc[10:24]\n",
    "\n",
    "internet = INTERNET.set_index('country')\n",
    "BRICSNET1 = internet.loc[['Brazil','Russia','India','China','South Africa','Ecuador','Chile']]\n",
    "BRICSNET2 = BRICSNET1.transpose()\n",
    "BRICSNET3 = BRICSNET2.iloc[10:24]\n",
    "\n",
    "industria = INDUSTRIA.set_index('country')\n",
    "BRICSIND1 = industria.loc[['Brazil','Russia','India','China','South Africa','Ecuador','Chile']]\n",
    "BRICSIND2 = BRICSIND1.transpose()\n",
    "BRICSIND3 = BRICSIND2.iloc[40:54]\n",
    "\n",
    "investimento = INVESTIMENTO.set_index('country')\n",
    "BRICSINVEST1 = investimento.loc[['Brazil','Russia','India','China','South Africa','Ecuador','Chile']]\n",
    "BRICSINVEST2 = BRICSINVEST1.transpose()\n",
    "BRICSINVEST3 = BRICSINVEST2.iloc[40:54]\n",
    "\n",
    "crescimentogdp = CRESCIMENTOGDP.set_index('country')\n",
    "CRESCIMENTOGDP1 = crescimentogdp.loc[['Brazil','Russia','India','China','South Africa','Ecuador','Chile']]\n",
    "CRESCIMENTOGDP2 = CRESCIMENTOGDP1.transpose()\n",
    "CRESCIMENTOGDP3 = CRESCIMENTOGDP2.iloc[199:]\n",
    "\n",
    "gdp = GDP.set_index('country')\n",
    "GDP1 = gdp.loc[['Brazil','Russia','India','China','South Africa','Ecuador','Chile']]\n",
    "GDP2 = GDP1.transpose()\n",
    "GDP3 = GDP2.iloc[40:54]\n",
    "GDP3"
   ]
  },
  {
   "cell_type": "markdown",
   "metadata": {},
   "source": [
    "### Definindo um parâmetro/faixa para definir índices economicos e sociais de um BRICS"
   ]
  },
  {
   "cell_type": "code",
   "execution_count": 422,
   "metadata": {},
   "outputs": [],
   "source": [
    "BRICSGDP5 = BRICSGDP4[BRICSGDP4.index == 2010]\n",
    "BRICSGDP6 = BRICSGDP5.transpose()\n",
    "BRICSIDH5 = BRICSIDH4[BRICSIDH4.index == 2010]\n",
    "BRICSIDH6 = BRICSIDH5.transpose()\n",
    "BRICSNET5 = BRICSNET4[BRICSNET4.index == 2010]\n",
    "BRICSNET6 = BRICSNET5.transpose()\n",
    "BRICSIND5 = BRICSIND4[BRICSIND4.index == 2010]\n",
    "BRICSIND6 = BRICSIND5.transpose()\n",
    "BRICSINVEST5 = BRICSINVEST4[BRICSINVEST4.index == 2010]\n",
    "BRICSINVEST6 = BRICSINVEST5.transpose()\n",
    "BRICSCRESCIMENTOGDP5 = CRESCIMENTOGDP4[CRESCIMENTOGDP4.index == 2010]\n",
    "BRICSCRESCIMENTOGDP6 = BRICSCRESCIMENTOGDP5.transpose()\n",
    "\n",
    "GDP5 = GDP3[GDP3.index == 2010]\n",
    "GDP6 = GDP5.transpose()\n",
    "\n",
    "BRICS2010_1 = BRICSGDP6.join(BRICSIDH6, how='outer', lsuffix='_GDPCAPTA', rsuffix='_IDH')\n",
    "BRICS2010_2 = BRICS2010_1.join(BRICSNET6, how='outer')\n",
    "BRICS2010_2.rename(columns={2010:'2010_NET'}, inplace=True)\n",
    "BRICS2010_3 = BRICS2010_2.join(BRICSIND6, how='outer')\n",
    "BRICS2010_3.rename(columns={2010:'2010_IND'}, inplace=True)\n",
    "BRICS2010_4 = BRICS2010_3.join(BRICSINVEST6, how='outer')\n",
    "BRICS2010_4.rename(columns={2010:'2010_INVEST'}, inplace=True) \n",
    "BRICS2010_5 = BRICS2010_4.join(BRICSCRESCIMENTOGDP6, how='outer')\n",
    "BRICS2010_5.rename(columns={2010:'2010_CRESCGDP'}, inplace=True)\n",
    "BRICS2010_6 = BRICS2010_5.join(GDP6, how='outer')\n",
    "BRICS2010_6.rename(columns={2010:'2010_GDP'}, inplace=True)\n",
    "#BRICS2010_6"
   ]
  },
  {
   "cell_type": "markdown",
   "metadata": {},
   "source": [
    "### Verificando se os países que pertencem ao BRICS ainda podem ser considerados como emergente\n",
    "#### Os países Chile e Equador estão presentes abaixo apenas como fator de comparação."
   ]
  },
  {
   "cell_type": "code",
   "execution_count": 423,
   "metadata": {},
   "outputs": [],
   "source": [
    "BRICSGDP5 = BRICSGDP4[BRICSGDP4.index == 2013]\n",
    "BRICSGDP6 = BRICSGDP5.transpose()\n",
    "BRICSIDH5 = BRICSIDH4[BRICSIDH4.index == 2013]\n",
    "BRICSIDH6 = BRICSIDH5.transpose()\n",
    "BRICSNET5 = BRICSNET4[BRICSNET4.index == 2013]\n",
    "BRICSNET6 = BRICSNET5.transpose()\n",
    "BRICSIND5 = BRICSIND4[BRICSIND4.index == 2013]\n",
    "BRICSIND6 = BRICSIND5.transpose()\n",
    "BRICSINVEST5 = BRICSINVEST4[BRICSINVEST4.index == 2013]\n",
    "BRICSINVEST6 = BRICSINVEST5.transpose()\n",
    "BRICSCRESCIMENTOGDP5 = CRESCIMENTOGDP4[CRESCIMENTOGDP4.index == 2013]\n",
    "BRICSCRESCIMENTOGDP6 = BRICSCRESCIMENTOGDP5.transpose()\n",
    "\n",
    "GDP7 = GDP3[GDP3.index == 2013]\n",
    "GDP8 = GDP7.transpose()\n",
    "\n",
    "BRICS2013_1 = BRICSGDP6.join(BRICSIDH6, how='outer', lsuffix='_GDPCAPTA', rsuffix='_IDH')\n",
    "BRICS2013_2 = BRICS2013_1.join(BRICSNET6, how='outer')\n",
    "BRICS2013_2.rename(columns={2013:'2013_NET'}, inplace=True)\n",
    "BRICS2013_3 = BRICS2013_2.join(BRICSIND6, how='outer')\n",
    "BRICS2013_3.rename(columns={2013:'2013_IND'}, inplace=True)\n",
    "BRICS2013_4 = BRICS2013_3.join(BRICSINVEST6, how='outer')\n",
    "BRICS2013_4.rename(columns={2013:'2013_INVEST'}, inplace=True) \n",
    "BRICS2013_5 = BRICS2013_4.join(BRICSCRESCIMENTOGDP6, how='outer')\n",
    "BRICS2013_5.rename(columns={2013:'2013_CRESCGDP'}, inplace=True)\n",
    "BRICS2013_6 = BRICS2013_5.join(GDP8, how='outer')\n",
    "BRICS2013_6.rename(columns={2013:'2013_GDP'}, inplace=True)\n",
    "\n",
    "\n",
    "BRICS2013 = BRICS2013_6[(BRICS2013_6['2013_GDPCAPTA']>=1350) & (BRICS2013_6['2013_IDH'] >= 0.58) & (BRICS2013_6['2013_NET'] >= 7.5) & (BRICS2013_6['2013_IND'] >= 23.3) & (BRICS2013_6['2013_INVEST'] >= 19.5) & (BRICS2013_6['2013_CRESCGDP'] >= 3.56) & (BRICS2013_6['2013_GDP'] >= 3.750000e+11)]\n",
    "#BRICS2013_6"
   ]
  },
  {
   "cell_type": "code",
   "execution_count": 368,
   "metadata": {},
   "outputs": [],
   "source": [
    "BRICS_2010_2013_6 = BRICS2010_6.join(BRICS2013_6)"
   ]
  },
  {
   "cell_type": "code",
   "execution_count": 415,
   "metadata": {},
   "outputs": [
    {
     "data": {
      "text/plain": [
       "Text(0.5, 1.0, 'Comparação do PIB per capta dos países Equador, Chile e membros dos BRICS em 2010 e 2013')"
      ]
     },
     "execution_count": 415,
     "metadata": {},
     "output_type": "execute_result"
    },
    {
     "data": {
      "image/png": "[encoded data removed]",
      "text/plain": [
       "<Figure size 864x432 with 1 Axes>"
      ]
     },
     "metadata": {
      "needs_background": "light"
     },
     "output_type": "display_data"
    }
   ],
   "source": [
    "gdpCAPTA = BRICS_2010_2013_6[['2010_GDPCAPTA', '2013_GDPCAPTA']].sort_values(by='2013_GDPCAPTA')\n",
    "gdpCAPTA.plot.bar(figsize=(12, 6),rot=0)\n",
    "plt.legend(loc='upper left')\n",
    "plt.xlabel(\"Países\")\n",
    "plt.ylabel(\"PIB per capta (US$)\")\n",
    "plt.title(\"Comparação do PIB per capta dos países Equador, Chile e membros dos BRICS em 2010 e 2013\")"
   ]
  },
  {
   "cell_type": "code",
   "execution_count": 424,
   "metadata": {},
   "outputs": [],
   "source": [
    "crescgdpCAPTA1 = (gdpCAPTA['2013_GDPCAPTA']*100)/gdpCAPTA['2010_GDPCAPTA']-100\n",
    "crescgdpCAPTA2 = crescgdpCAPTA1.to_frame()\n",
    "crescgdpCAPTA2.rename(columns={0:'GDPCAPTA'}, inplace=True)\n",
    "#crescgdpCAPTA2"
   ]
  },
  {
   "cell_type": "code",
   "execution_count": 417,
   "metadata": {},
   "outputs": [
    {
     "data": {
      "text/plain": [
       "Text(0.5, 1.0, 'Comparação do crescimento em % do PIB per capta dos países Equador, Chile e membros dos BRICS de 2010 para 2013')"
      ]
     },
     "execution_count": 417,
     "metadata": {},
     "output_type": "execute_result"
    },
    {
     "data": {
      "image/png": "[encoded data removed]",
      "text/plain": [
       "<Figure size 864x432 with 1 Axes>"
      ]
     },
     "metadata": {
      "needs_background": "light"
     },
     "output_type": "display_data"
    }
   ],
   "source": [
    "crescgdpCAPTA3 = crescgdpCAPTA2.sort_values(by='GDPCAPTA')\n",
    "crescgdpCAPTA3.plot.bar(figsize=(12, 6),rot=0)\n",
    "plt.legend(loc='upper left')\n",
    "plt.xlabel(\"Países\")\n",
    "plt.ylabel(\"Crescimento em % do PIB per capta (US$)\")\n",
    "plt.title(\"Comparação do crescimento em % do PIB per capta dos países Equador, Chile e membros dos BRICS de 2010 para 2013\")"
   ]
  },
  {
   "cell_type": "code",
   "execution_count": 418,
   "metadata": {},
   "outputs": [
    {
     "data": {
      "text/plain": [
       "Text(0.5, 1.0, 'Comparação do IDH dos países Equador, Chile e membros dos BRICS em 2010 e 2013')"
      ]
     },
     "execution_count": 418,
     "metadata": {},
     "output_type": "execute_result"
    },
    {
     "data": {
      "image/png": "[encoded data removed]",
      "text/plain": [
       "<Figure size 864x432 with 1 Axes>"
      ]
     },
     "metadata": {
      "needs_background": "light"
     },
     "output_type": "display_data"
    }
   ],
   "source": [
    "idh1 = BRICS_2010_2013_6[['2010_IDH', '2013_IDH']].sort_values(by='2013_IDH')\n",
    "idh1.plot.bar(figsize=(12, 6),rot=0)\n",
    "plt.legend(loc='upper left')\n",
    "plt.xlabel(\"Países\")\n",
    "plt.ylabel(\"Índice de Desenvolvimento Humano (IDH)\")\n",
    "plt.title(\"Comparação do IDH dos países Equador, Chile e membros dos BRICS em 2010 e 2013\")"
   ]
  },
  {
   "cell_type": "code",
   "execution_count": 425,
   "metadata": {},
   "outputs": [],
   "source": [
    "crescidh1 = (idh1['2013_IDH']*100)/idh1['2010_IDH']-100\n",
    "crescidh2 = crescidh1.to_frame()\n",
    "crescidh2.rename(columns={0:'IDH'}, inplace=True)\n",
    "#crescidh2"
   ]
  },
  {
   "cell_type": "code",
   "execution_count": 437,
   "metadata": {},
   "outputs": [
    {
     "data": {
      "text/plain": [
       "Text(0.5, 1.0, 'Comparação do crescimento em % do PIB per capta dos países Equador, Chile e membros dos BRICS de 2010 para 2013')"
      ]
     },
     "execution_count": 437,
     "metadata": {},
     "output_type": "execute_result"
    },
    {
     "data": {
      "image/png": "[encoded data removed]",
      "text/plain": [
       "<Figure size 864x432 with 1 Axes>"
      ]
     },
     "metadata": {
      "needs_background": "light"
     },
     "output_type": "display_data"
    }
   ],
   "source": [
    "crescidh3 = crescidh2.sort_values(by='IDH')\n",
    "crescidh3.plot.bar(figsize=(12, 6),rot=0)\n",
    "plt.legend(loc='upper left')\n",
    "plt.xlabel(\"Países\")\n",
    "plt.ylabel(\"Crescimento em % do Índice de Desenvolvimento \")\n",
    "plt.title(\"Comparação do crescimento em % do PIB per capta dos países Equador, Chile e membros dos BRICS de 2010 para 2013\")"
   ]
  },
  {
   "cell_type": "code",
   "execution_count": 421,
   "metadata": {},
   "outputs": [
    {
     "data": {
      "text/plain": [
       "Text(0.5, 1.0, 'Comparação da porcentagemde pessoas que possuem acesso a internet nos países Equador, Chile e membros dos BRICS em 2010 e 2013')"
      ]
     },
     "execution_count": 421,
     "metadata": {},
     "output_type": "execute_result"
    },
    {
     "data": {
      "image/png": "[encoded data removed]",
      "text/plain": [
       "<Figure size 864x432 with 1 Axes>"
      ]
     },
     "metadata": {
      "needs_background": "light"
     },
     "output_type": "display_data"
    }
   ],
   "source": [
    "net1 = BRICS_2010_2013_6[['2010_NET', '2013_NET']].sort_values(by='2013_NET')\n",
    "net1.plot.bar(figsize=(12, 6),rot=0)\n",
    "plt.legend(loc='upper left')\n",
    "plt.xlabel(\"Países\")\n",
    "plt.ylabel(\"Pessoas que possuem acesso a internet (%)\")\n",
    "plt.title(\"Comparação da porcentagemde pessoas que possuem acesso a internet nos países Equador, Chile e membros dos BRICS em 2010 e 2013\")"
   ]
  },
  {
   "cell_type": "code",
   "execution_count": 435,
   "metadata": {},
   "outputs": [],
   "source": [
    "crescnet1 = (net1['2013_NET']*100)/net1['2010_NET']-100\n",
    "crescnet2 = crescnet1.to_frame()\n",
    "crescnet2.rename(columns={0:'NET'}, inplace=True)\n",
    "#crescnet2"
   ]
  },
  {
   "cell_type": "code",
   "execution_count": 439,
   "metadata": {},
   "outputs": [
    {
     "data": {
      "text/plain": [
       "Text(0.5, 1.0, 'Comparação da porcentagemde pessoas que possuem acesso a internet nos países Equador, Chile e membros dos BRICS em 2010 e 2013')"
      ]
     },
     "execution_count": 439,
     "metadata": {},
     "output_type": "execute_result"
    },
    {
     "data": {
      "image/png": "[encoded data removed]",
      "text/plain": [
       "<Figure size 864x432 with 1 Axes>"
      ]
     },
     "metadata": {
      "needs_background": "light"
     },
     "output_type": "display_data"
    }
   ],
   "source": [
    "crescnet3 = crescnet2.sort_values(by='NET')\n",
    "crescnet3.plot.bar(figsize=(12, 6),rot=0)\n",
    "plt.legend(loc='upper left')\n",
    "plt.xlabel(\"Países\")\n",
    "plt.ylabel(\"Pessoas que possuem acesso a internet (%)\")\n",
    "plt.title(\"Comparação da porcentagemde pessoas que possuem acesso a internet nos países Equador, Chile e membros dos BRICS em 2010 e 2013\")"
   ]
  },
  {
   "cell_type": "code",
   "execution_count": 385,
   "metadata": {},
   "outputs": [
    {
     "data": {
      "text/plain": [
       "65025964000000"
      ]
     },
     "execution_count": 385,
     "metadata": {},
     "output_type": "execute_result"
    }
   ],
   "source": [
    "GDP1 = gdp[2010]\n",
    "GDP1.sum()"
   ]
  },
  {
   "cell_type": "code",
   "execution_count": null,
   "metadata": {},
   "outputs": [],
   "source": []
  },
  {
   "cell_type": "code",
   "execution_count": 338,
   "metadata": {},
   "outputs": [
    {
     "data": {
      "text/plain": [
       "70514487700000.0"
      ]
     },
     "execution_count": 338,
     "metadata": {},
     "output_type": "execute_result"
    }
   ],
   "source": [
    "GDP2 = gdp[2013]\n",
    "GDP2.sum()"
   ]
  },
  {
   "cell_type": "code",
   "execution_count": 348,
   "metadata": {},
   "outputs": [],
   "source": [
    "PORCGDP_1 = 100*(BRICS2010_6['2010_GDP']/GDP1.sum())\n",
    "PORCGDP_2 = 100*(BRICS2013_6['2013_GDP']/GDP2.sum())"
   ]
  },
  {
   "cell_type": "code",
   "execution_count": 349,
   "metadata": {},
   "outputs": [
    {
     "data": {
      "text/plain": [
       "<matplotlib.axes._subplots.AxesSubplot at 0x21cd7f13898>"
      ]
     },
     "execution_count": 349,
     "metadata": {},
     "output_type": "execute_result"
    },
    {
     "data": {
      "image/png": "[encoded data removed]",
      "text/plain": [
       "<Figure size 432x288 with 1 Axes>"
      ]
     },
     "metadata": {
      "needs_background": "light"
     },
     "output_type": "display_data"
    }
   ],
   "source": [
    "PORCGDP_1.plot(kind='bar')"
   ]
  },
  {
   "cell_type": "markdown",
   "metadata": {},
   "source": [
    "## Análise de dados"
   ]
  },
  {
   "cell_type": "code",
   "execution_count": null,
   "metadata": {},
   "outputs": [],
   "source": []
  },
  {
   "cell_type": "markdown",
   "metadata": {},
   "source": [
    "Insira abaixo uma análise de dados tratada para ter maior clareza. \n",
    "\n",
    "Lembre-se de que, além deste arquivo principal, você precisa entregar um ou mais *notebooks* mais brutos com todas as tentativas que fez e que não deram certo .\n",
    "\n",
    "**Não inclua dados ou gráficos sem motivação nem interpretação** - sempre que fizer uma análise, plot ou tablea, diga qual sua intenção. Logo após a apresentação diga qual conclusão específica ou interpretação você tira daquela análise"
   ]
  },
  {
   "cell_type": "code",
   "execution_count": null,
   "metadata": {},
   "outputs": [],
   "source": []
  },
  {
   "cell_type": "code",
   "execution_count": null,
   "metadata": {},
   "outputs": [],
   "source": []
  },
  {
   "cell_type": "code",
   "execution_count": null,
   "metadata": {},
   "outputs": [],
   "source": []
  },
  {
   "cell_type": "markdown",
   "metadata": {},
   "source": [
    "## Conclusão"
   ]
  },
  {
   "cell_type": "markdown",
   "metadata": {},
   "source": [
    "Responda à pergunta, argumento da melhor forma possível com base nos dados"
   ]
  },
  {
   "cell_type": "code",
   "execution_count": null,
   "metadata": {},
   "outputs": [],
   "source": []
  }
 ],
 "metadata": {
  "kernelspec": {
   "display_name": "Python 3",
   "language": "python",
   "name": "python3"
  },
  "language_info": {
   "codemirror_mode": {
    "name": "ipython",
    "version": 3
   },
   "file_extension": ".py",
   "mimetype": "text/x-python",
   "name": "python",
   "nbconvert_exporter": "python",
   "pygments_lexer": "ipython3",
   "version": "3.7.1"
  }
 },
 "nbformat": 4,
 "nbformat_minor": 2
}
