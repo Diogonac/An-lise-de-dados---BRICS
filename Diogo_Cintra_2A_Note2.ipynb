{
 "cells": [
  {
   "cell_type": "markdown",
   "metadata": {},
   "source": [
    "# Projeto 1 - Ciência dos Dados"
   ]
  },
  {
   "cell_type": "markdown",
   "metadata": {},
   "source": [
    "Nome: Diogo Nobre de Araujo Cintra"
   ]
  },
  {
   "cell_type": "markdown",
   "metadata": {},
   "source": [
    "## Introdução"
   ]
  },
  {
   "cell_type": "markdown",
   "metadata": {},
   "source": [
    "Foi escolhido o grupo dos BRICS para ser estudado neste projeto. \n",
    "Países membros: Brasil, Rússia, China e África do Sul.\n",
    "O primeiro encontro dos presidentes de cada país ocorreu em 16 de junho de 2009 na Rússia, neste encontro a África do sul ainda não tinha entrado neste grupo político. Foi apenas em 24 de dezembro de 2010 que a África do Sul se tornou membro oficial do então conhecido país emergentes ou BRICS.\n",
    "\n",
    "A criação dos BRICS foi pelo fato de seus países membros terem índices semelhantes como crescimento industrial, PIB per capta e infraestrutura. Essas características de índices semelhantes entre esses países definiram o que conhecemos como país emergente. Em teoria fazer parte dos BRICS gerou alguns benefícios, como a criação do Novo Banco de Desenvolvimento do BRICS, por intermédio do banco, busca-se mobilizar recursos para incrementar o aporte de investimentos em infraestrutura e desenvolvimento sustentável nos países do BRICS e criação do Arranjo Contingente de Reservas, esse arranjo visa a respaldar os países membros, especificamente em eventuais cenários de crise em seus balanços de pagamentos."
   ]
  },
  {
   "cell_type": "markdown",
   "metadata": {},
   "source": [
    "## Pergunta a ser respondida"
   ]
  },
  {
   "cell_type": "markdown",
   "metadata": {},
   "source": [
    "Como a formação dos BRICS influenciou o crescimento dos países membros ?"
   ]
  },
  {
   "cell_type": "markdown",
   "metadata": {},
   "source": [
    "## Explicação da hipótese e mecanismo"
   ]
  },
  {
   "cell_type": "markdown",
   "metadata": {},
   "source": [
    "### Hipótese\n",
    "A criação dos BRICS foi pela semelhança econômica e social entre seus países membros. Dessa forma com a união desses países os crescimentos econômicos seriam semelhantes durante e após a formação do grupo.\n",
    "\n",
    "### Mecanismo\n",
    "Caso ocorra o que foi proposto pela hipótese, o crescimento econômico dos países deve-se ao fato de acordos e benefícios gerados pelo o grupo como: a criação do Novo Banco de Desenvolvimento do BRICS, criação do Arranjo Contingente de Reservas e maior visibilidade para investimentos, uma vez que esses países estão emergindo na economia global, portanto são economicamente atraentes. Para verificar se isso ocorreu, será analisado como foram os crescimentos dos índices que caracterizam um país como emergente, antes e depois da formação do grupo.\n",
    "\n",
    "http://engemausp.submissao.com.br/17/anais/arquivos/66.pdf\n",
    "(Não soube colocar em ABNT)"
   ]
  },
  {
   "cell_type": "markdown",
   "metadata": {},
   "source": [
    "## Bases de dados usadas"
   ]
  },
  {
   "cell_type": "markdown",
   "metadata": {},
   "source": [
    "https://www.gapminder.org/data/"
   ]
  },
  {
   "cell_type": "markdown",
   "metadata": {},
   "source": [
    "## Análise de dados"
   ]
  },
  {
   "cell_type": "markdown",
   "metadata": {},
   "source": [
    "Insira abaixo uma análise de dados tratada para ter maior clareza. \n",
    "\n",
    "Lembre-se de que, além deste arquivo principal, você precisa entregar um ou mais *notebooks* mais brutos com todas as tentativas que fez e que não deram certo .\n",
    "\n",
    "**Não inclua dados ou gráficos sem motivação nem interpretação** - sempre que fizer uma análise, plot ou tablea, diga qual sua intenção. Logo após a apresentação diga qual conclusão específica ou interpretação você tira daquela análise"
   ]
  },
  {
   "cell_type": "code",
   "execution_count": null,
   "metadata": {},
   "outputs": [],
   "source": []
  },
  {
   "cell_type": "code",
   "execution_count": null,
   "metadata": {},
   "outputs": [],
   "source": []
  },
  {
   "cell_type": "code",
   "execution_count": null,
   "metadata": {},
   "outputs": [],
   "source": []
  },
  {
   "cell_type": "markdown",
   "metadata": {},
   "source": [
    "## Conclusão"
   ]
  },
  {
   "cell_type": "markdown",
   "metadata": {},
   "source": [
    "Responda à pergunta, argumento da melhor forma possível com base nos dados"
   ]
  },
  {
   "cell_type": "code",
   "execution_count": null,
   "metadata": {},
   "outputs": [],
   "source": []
  }
 ],
 "metadata": {
  "kernelspec": {
   "display_name": "Python 3",
   "language": "python",
   "name": "python3"
  },
  "language_info": {
   "codemirror_mode": {
    "name": "ipython",
    "version": 3
   },
   "file_extension": ".py",
   "mimetype": "text/x-python",
   "name": "python",
   "nbconvert_exporter": "python",
   "pygments_lexer": "ipython3",
   "version": "3.7.1"
  }
 },
 "nbformat": 4,
 "nbformat_minor": 2
}
